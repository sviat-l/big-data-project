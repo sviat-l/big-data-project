{
 "cells": [
  {
   "cell_type": "code",
   "execution_count": 70,
   "metadata": {},
   "outputs": [],
   "source": [
    "from pyspark.sql import SparkSession, DataFrame\n",
    "from pyspark.sql.functions import col\n",
    "import pyspark.sql.functions as F\n",
    "import pyspark.sql.types as T\n",
    "from pyspark.sql.functions import expr, col\n",
    "from pyspark.sql.window import Window\n",
    "\n",
    "import json"
   ]
  },
  {
   "cell_type": "markdown",
   "metadata": {},
   "source": [
    "#### Utils"
   ]
  },
  {
   "cell_type": "code",
   "execution_count": 71,
   "metadata": {},
   "outputs": [],
   "source": [
    "spark = SparkSession.builder.appName(\"example\").getOrCreate()"
   ]
  },
  {
   "cell_type": "code",
   "execution_count": 72,
   "metadata": {},
   "outputs": [
    {
     "name": "stdout",
     "output_type": "stream",
     "text": [
      "+-----+------+---------+--------------------+-------------+-------------+--------------------------------------------------+\n",
      "|  key|offset|partition|           timestamp|timestampType|        topic|                                             value|\n",
      "+-----+------+---------+--------------------+-------------+-------------+--------------------------------------------------+\n",
      "|0011$| 12345|        0|2024-05-16T12:34:56Z|            0|example_topic|data: {\"$schema\":\"/mediawiki/revision/create/2....|\n",
      "|1112#| 67890|        1|2024-05-16T13:45:30Z|            1|another_topic|id: [{\"topic\":\"eqiad.mediawiki.page-create\",\"pa...|\n",
      "|2223=| 24680|        2|2024-05-16T14:56:12Z|            0|  topic_three|                                                  |\n",
      "| 3334| 13579|        0|2024-05-16T15:07:45Z|            1|   test_topic|                                    event: message|\n",
      "|@1111| 12345|        0|2024-05-16T12:34:56Z|            0|example_topic|data: {\"$schema\":\"/mediawiki/revision/create/2....|\n",
      "|@2222| 67890|        1|2024-05-16T13:45:30Z|            1|another_topic|data: {\"$schema\":\"/mediawiki/revision/create/2....|\n",
      "|@0000| 12345|        0|2024-05-16T12:34:56Z|            0|example_topic|data: {\"$schema\":\"/mediawiki/revision/create/2....|\n",
      "|@3333| 67890|        1|2024-05-16T13:45:30Z|            1|another_topic|data: {\"$schema\":\"/mediawiki/revision/create/2....|\n",
      "|@4444| 12345|        0|2024-05-16T12:34:56Z|            0|example_topic|data: {\"$schema\":\"/mediawiki/revision/create/2....|\n",
      "|@5555| 67890|        1|2024-05-16T13:45:30Z|            1|another_topic|data: {\"$schema\":\"/mediawiki/revision/create/2....|\n",
      "+-----+------+---------+--------------------+-------------+-------------+--------------------------------------------------+\n",
      "\n"
     ]
    }
   ],
   "source": [
    "df = spark.read.json(\"example_data.json\", multiLine=True)\n",
    "\n",
    "df.show(truncate=50)"
   ]
  },
  {
   "cell_type": "code",
   "execution_count": 73,
   "metadata": {},
   "outputs": [
    {
     "name": "stdout",
     "output_type": "stream",
     "text": [
      "+----------------------------------------------------------------------------------------------------+\n",
      "|                                                                                               value|\n",
      "+----------------------------------------------------------------------------------------------------+\n",
      "|data: {\"$schema\":\"/mediawiki/revision/create/2.0.0\",\"meta\":{\"uri\":\"https://commons.wikimedia.org/...|\n",
      "|id: [{\"topic\":\"eqiad.mediawiki.page-create\",\"partition\":0,\"timestamp\":1715790794001},{\"topic\":\"co...|\n",
      "|                                                                                                    |\n",
      "|                                                                                      event: message|\n",
      "|data: {\"$schema\":\"/mediawiki/revision/create/2.0.0\",\"meta\":{\"uri\":\"https://commons.wikimedia.org/...|\n",
      "|data: {\"$schema\":\"/mediawiki/revision/create/2.0.0\",\"meta\":{\"uri\":\"https://zh.wiktionary.org/wiki...|\n",
      "|data: {\"$schema\":\"/mediawiki/revision/create/2.0.0\",\"meta\":{\"uri\":\"https://commons.wikimedia.org/...|\n",
      "|data: {\"$schema\":\"/mediawiki/revision/create/2.0.0\",\"meta\":{\"uri\":\"https://zh.wiktionary.org/wiki...|\n",
      "|data: {\"$schema\":\"/mediawiki/revision/create/2.0.0\",\"meta\":{\"uri\":\"https://zh.wiktionary.org/wiki...|\n",
      "|data: {\"$schema\":\"/mediawiki/revision/create/2.0.0\",\"meta\":{\"uri\":\"https://www.wikidata.org/wiki/...|\n",
      "+----------------------------------------------------------------------------------------------------+\n",
      "\n"
     ]
    }
   ],
   "source": [
    "input_df = df.selectExpr(\"CAST(value AS STRING)\")\n",
    "input_df.show(truncate=100)"
   ]
  },
  {
   "cell_type": "code",
   "execution_count": 74,
   "metadata": {},
   "outputs": [
    {
     "name": "stdout",
     "output_type": "stream",
     "text": [
      "+----------------------------------------------------------------------------------------------------+\n",
      "|                                                                                                data|\n",
      "+----------------------------------------------------------------------------------------------------+\n",
      "|{\"$schema\":\"/mediawiki/revision/create/2.0.0\",\"meta\":{\"uri\":\"https://commons.wikimedia.org/wiki/F...|\n",
      "|{\"$schema\":\"/mediawiki/revision/create/2.0.0\",\"meta\":{\"uri\":\"https://commons.wikimedia.org/wiki/C...|\n",
      "|{\"$schema\":\"/mediawiki/revision/create/2.0.0\",\"meta\":{\"uri\":\"https://zh.wiktionary.org/wiki/Categ...|\n",
      "|{\"$schema\":\"/mediawiki/revision/create/2.0.0\",\"meta\":{\"uri\":\"https://commons.wikimedia.org/wiki/C...|\n",
      "|{\"$schema\":\"/mediawiki/revision/create/2.0.0\",\"meta\":{\"uri\":\"https://zh.wiktionary.org/wiki/Categ...|\n",
      "|{\"$schema\":\"/mediawiki/revision/create/2.0.0\",\"meta\":{\"uri\":\"https://zh.wiktionary.org/wiki/Categ...|\n",
      "|{\"$schema\":\"/mediawiki/revision/create/2.0.0\",\"meta\":{\"uri\":\"https://www.wikidata.org/wiki/Q12595...|\n",
      "+----------------------------------------------------------------------------------------------------+\n",
      "\n"
     ]
    }
   ],
   "source": [
    "data_df = input_df\\\n",
    "          .filter(F.expr(\"value LIKE 'data: %'\"))\\\n",
    "          .select(F.expr(\"substring(value, 7) AS data\"))\\\n",
    "\n",
    "data_df.show(truncate=100)"
   ]
  },
  {
   "cell_type": "code",
   "execution_count": 78,
   "metadata": {},
   "outputs": [
    {
     "name": "stdout",
     "output_type": "stream",
     "text": [
      "root\n",
      " |-- meta: struct (nullable = true)\n",
      " |    |-- domain: string (nullable = true)\n",
      " |    |-- request_id: string (nullable = true)\n",
      " |-- performer: struct (nullable = true)\n",
      " |    |-- user_is_bot: boolean (nullable = true)\n",
      " |    |-- user_id: integer (nullable = true)\n",
      " |-- dt: string (nullable = true)\n",
      " |-- page_title: string (nullable = true)\n",
      "\n",
      "+----------------------------------------+----------------+--------------------+----------------------------------------+\n",
      "|                                    meta|       performer|                  dt|                              page_title|\n",
      "+----------------------------------------+----------------+--------------------+----------------------------------------+\n",
      "|{commons.wikimedia.org, cedf5ea9-dc0a...|  {true, 910182}|2024-05-15T16:33:14Z|File:Church_of_St_Peter_^_St_Paul,_No...|\n",
      "|{commons.wikimedia.org, 3d11fe0e-bdf2...|{false, 2826358}|2024-05-16T16:33:45Z|Category:Locations_along_Farm_to_Mark...|\n",
      "|{zh.wiktionary.org, cc16864e-e914-42c...|   {true, 83009}|2024-05-16T16:32:52Z|             Category:原始西日耳曼語模塊|\n",
      "|{commons.wikimedia.org, 3d11fe0e-bdf2...|{false, 2826358}|2024-05-16T16:33:45Z|Category:Locations_along_Farm_to_Mark...|\n",
      "|{zh.wiktionary.org, 18b12289-c3cd-4c7...|  {false, 53191}|2024-05-16T16:32:59Z|                       Category:日語變體|\n",
      "|{en.wikipedia.org, 18b12289-c3cd-4c7a...|  {false, 53191}|2024-05-16T16:32:59Z|                       Category:日語變體|\n",
      "|{www.wikidata.org, 309f4f77-0f9e-464a...| {true, 2752938}|2024-05-16T16:32:53Z|                              Q125950003|\n",
      "+----------------------------------------+----------------+--------------------+----------------------------------------+\n",
      "\n"
     ]
    }
   ],
   "source": [
    "parsed_df = data_df\\\n",
    "              .selectExpr(\"from_json(data, 'struct<\"+\n",
    "                \"meta:struct<domain:string, request_id:string>, \"+\n",
    "                \"performer:struct<user_is_bot:boolean, user_id:integer>, \"+\n",
    "                \"dt:string, \"+\n",
    "                \"page_title:string>') AS data\")\\\n",
    "                .select(\"data.*\")\n",
    "              \n",
    "parsed_df.printSchema()\n",
    "parsed_df.show(truncate=40)"
   ]
  },
  {
   "cell_type": "code",
   "execution_count": 79,
   "metadata": {},
   "outputs": [
    {
     "name": "stdout",
     "output_type": "stream",
     "text": [
      "+--------------------------------------------------+----------------+--------------------+-------------------------------------------------+\n",
      "|                                              meta|       performer|                  dt|                                       page_title|\n",
      "+--------------------------------------------------+----------------+--------------------+-------------------------------------------------+\n",
      "|{commons.wikimedia.org, 3d11fe0e-bdf2-4c41-b7e0...|{false, 2826358}|2024-05-16T16:33:45Z|Category:Locations_along_Farm_to_Market_Road_2540|\n",
      "|{commons.wikimedia.org, 3d11fe0e-bdf2-4c41-b7e0...|{false, 2826358}|2024-05-16T16:33:45Z|Category:Locations_along_Farm_to_Market_Road_2540|\n",
      "|{en.wikipedia.org, 18b12289-c3cd-4c7a-9c54-ce93...|  {false, 53191}|2024-05-16T16:32:59Z|                                Category:日語變體|\n",
      "+--------------------------------------------------+----------------+--------------------+-------------------------------------------------+\n",
      "\n"
     ]
    }
   ],
   "source": [
    "filtered_df = parsed_df.filter(\n",
    "        expr(\"meta.domain IN ('en.wikipedia.org', 'www.wikidata.org', 'commons.wikimedia.org')\") &\n",
    "        (~expr(\"performer.user_is_bot\"))\n",
    "    )\n",
    "\n",
    "filtered_df.show(truncate=50)"
   ]
  },
  {
   "cell_type": "code",
   "execution_count": 80,
   "metadata": {},
   "outputs": [
    {
     "name": "stdout",
     "output_type": "stream",
     "text": [
      "+---------------------+------------------------------------+-------+--------------------+-------------------------------------------------+\n",
      "|               domain|                          request_id|user_id|           timestamp|                                       page_title|\n",
      "+---------------------+------------------------------------+-------+--------------------+-------------------------------------------------+\n",
      "|commons.wikimedia.org|3d11fe0e-bdf2-4c41-b7e0-aeec9d97e734|2826358|2024-05-16T16:33:45Z|Category:Locations_along_Farm_to_Market_Road_2540|\n",
      "|commons.wikimedia.org|3d11fe0e-bdf2-4c41-b7e0-aeec9d97e734|2826358|2024-05-16T16:33:45Z|Category:Locations_along_Farm_to_Market_Road_2540|\n",
      "|     en.wikipedia.org|18b12289-c3cd-4c7a-9c54-ce937bba8b40|  53191|2024-05-16T16:32:59Z|                                Category:日語變體|\n",
      "+---------------------+------------------------------------+-------+--------------------+-------------------------------------------------+\n",
      "\n"
     ]
    }
   ],
   "source": [
    "selected_df = filtered_df.select(\n",
    "        col(\"meta.domain\").alias(\"domain\"),\n",
    "        col(\"meta.request_id\").alias(\"request_id\"),\n",
    "        col(\"performer.user_id\").alias(\"user_id\"),\n",
    "        col(\"dt\").alias(\"timestamp\"),\n",
    "        col(\"page_title\")\n",
    "    )\n",
    "\n",
    "selected_df.show(truncate=50)"
   ]
  },
  {
   "cell_type": "code",
   "execution_count": 84,
   "metadata": {},
   "outputs": [
    {
     "name": "stdout",
     "output_type": "stream",
     "text": [
      "+----------------------------------------+\n",
      "|                                   value|\n",
      "+----------------------------------------+\n",
      "|{\"domain\":\"commons.wikimedia.org\",\"re...|\n",
      "|{\"domain\":\"commons.wikimedia.org\",\"re...|\n",
      "|{\"domain\":\"en.wikipedia.org\",\"request...|\n",
      "+----------------------------------------+\n",
      "\n"
     ]
    }
   ],
   "source": [
    "formatted_df = selected_df \\\n",
    "      .withColumn(\"value\", F.to_json(F.struct(\"domain\", \"request_id\", \"user_id\", \"timestamp\", \"page_title\")))\\\n",
    "      .selectExpr(\"CAST(value AS STRING)\")\n",
    "\n",
    "formatted_df.show(truncate=40)"
   ]
  },
  {
   "cell_type": "code",
   "execution_count": null,
   "metadata": {},
   "outputs": [],
   "source": []
  }
 ],
 "metadata": {
  "kernelspec": {
   "display_name": "Python 3",
   "language": "python",
   "name": "python3"
  },
  "language_info": {
   "codemirror_mode": {
    "name": "ipython",
    "version": 3
   },
   "file_extension": ".py",
   "mimetype": "text/x-python",
   "name": "python",
   "nbconvert_exporter": "python",
   "pygments_lexer": "ipython3",
   "version": "3.10.12"
  }
 },
 "nbformat": 4,
 "nbformat_minor": 2
}
